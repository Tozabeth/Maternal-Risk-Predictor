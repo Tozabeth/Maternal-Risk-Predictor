{
  "cells": [
    {
      "cell_type": "code",
      "execution_count": 47,
      "metadata": {
        "id": "iP6xpqViGcg6"
      },
      "outputs": [],
      "source": [
        "# Importing essential libraries for data analysis and machine learning\n",
        "import pandas as pd\n",
        "import numpy as np\n",
        "import seaborn as sns\n",
        "import matplotlib.pyplot as plt\n",
        "\n",
        "from sklearn.model_selection import train_test_split, GridSearchCV, cross_val_score\n",
        "from sklearn.preprocessing import StandardScaler, LabelEncoder\n",
        "from sklearn.linear_model import LogisticRegression\n",
        "from sklearn.svm import SVC\n",
        "from sklearn.tree import DecisionTreeClassifier\n",
        "from sklearn.ensemble import RandomForestClassifier, GradientBoostingClassifier, VotingClassifier\n",
        "from sklearn.metrics import classification_report, f1_score, precision_score, confusion_matrix, accuracy_score\n",
        "import warnings\n",
        "warnings.filterwarnings('ignore')\n"
      ]
    },
    {
      "cell_type": "code",
      "execution_count": 48,
      "metadata": {
        "colab": {
          "base_uri": "https://localhost:8080/",
          "height": 261
        },
        "id": "iVuLat-sZXZ1",
        "outputId": "08b54578-8a6c-4110-d444-db4f49fb17e5"
      },
      "outputs": [
        {
          "data": {
            "text/html": [
              "<div>\n",
              "<style scoped>\n",
              "    .dataframe tbody tr th:only-of-type {\n",
              "        vertical-align: middle;\n",
              "    }\n",
              "\n",
              "    .dataframe tbody tr th {\n",
              "        vertical-align: top;\n",
              "    }\n",
              "\n",
              "    .dataframe thead th {\n",
              "        text-align: right;\n",
              "    }\n",
              "</style>\n",
              "<table border=\"1\" class=\"dataframe\">\n",
              "  <thead>\n",
              "    <tr style=\"text-align: right;\">\n",
              "      <th></th>\n",
              "      <th>severe_headache</th>\n",
              "      <th>blurred_vision</th>\n",
              "      <th>swelling_in_hands_or_face</th>\n",
              "      <th>vaginal_bleeding</th>\n",
              "      <th>severe_abdominal_pain</th>\n",
              "      <th>dizziness_or_fainting</th>\n",
              "      <th>reduced_fetal_movement</th>\n",
              "      <th>high_stress</th>\n",
              "      <th>antenatal_visits_last_month</th>\n",
              "      <th>nutrition_quality</th>\n",
              "      <th>risk_level</th>\n",
              "    </tr>\n",
              "  </thead>\n",
              "  <tbody>\n",
              "    <tr>\n",
              "      <th>0</th>\n",
              "      <td>No</td>\n",
              "      <td>Yes</td>\n",
              "      <td>Yes</td>\n",
              "      <td>No</td>\n",
              "      <td>No</td>\n",
              "      <td>No</td>\n",
              "      <td>No</td>\n",
              "      <td>Low</td>\n",
              "      <td>1</td>\n",
              "      <td>Good</td>\n",
              "      <td>Medium Risk</td>\n",
              "    </tr>\n",
              "    <tr>\n",
              "      <th>1</th>\n",
              "      <td>No</td>\n",
              "      <td>No</td>\n",
              "      <td>Yes</td>\n",
              "      <td>No</td>\n",
              "      <td>No</td>\n",
              "      <td>No</td>\n",
              "      <td>Yes</td>\n",
              "      <td>Low</td>\n",
              "      <td>1</td>\n",
              "      <td>Average</td>\n",
              "      <td>Medium Risk</td>\n",
              "    </tr>\n",
              "    <tr>\n",
              "      <th>2</th>\n",
              "      <td>No</td>\n",
              "      <td>No</td>\n",
              "      <td>No</td>\n",
              "      <td>No</td>\n",
              "      <td>No</td>\n",
              "      <td>No</td>\n",
              "      <td>No</td>\n",
              "      <td>High</td>\n",
              "      <td>0</td>\n",
              "      <td>Average</td>\n",
              "      <td>High Risk</td>\n",
              "    </tr>\n",
              "    <tr>\n",
              "      <th>3</th>\n",
              "      <td>No</td>\n",
              "      <td>No</td>\n",
              "      <td>Yes</td>\n",
              "      <td>No</td>\n",
              "      <td>No</td>\n",
              "      <td>No</td>\n",
              "      <td>No</td>\n",
              "      <td>Moderate</td>\n",
              "      <td>2 or more</td>\n",
              "      <td>Average</td>\n",
              "      <td>Low Risk</td>\n",
              "    </tr>\n",
              "    <tr>\n",
              "      <th>4</th>\n",
              "      <td>Yes</td>\n",
              "      <td>No</td>\n",
              "      <td>Yes</td>\n",
              "      <td>No</td>\n",
              "      <td>Yes</td>\n",
              "      <td>No</td>\n",
              "      <td>Yes</td>\n",
              "      <td>Low</td>\n",
              "      <td>1</td>\n",
              "      <td>Average</td>\n",
              "      <td>High Risk</td>\n",
              "    </tr>\n",
              "  </tbody>\n",
              "</table>\n",
              "</div>"
            ],
            "text/plain": [
              "  severe_headache blurred_vision swelling_in_hands_or_face vaginal_bleeding  \\\n",
              "0              No            Yes                       Yes               No   \n",
              "1              No             No                       Yes               No   \n",
              "2              No             No                        No               No   \n",
              "3              No             No                       Yes               No   \n",
              "4             Yes             No                       Yes               No   \n",
              "\n",
              "  severe_abdominal_pain dizziness_or_fainting reduced_fetal_movement  \\\n",
              "0                    No                    No                     No   \n",
              "1                    No                    No                    Yes   \n",
              "2                    No                    No                     No   \n",
              "3                    No                    No                     No   \n",
              "4                   Yes                    No                    Yes   \n",
              "\n",
              "  high_stress antenatal_visits_last_month nutrition_quality   risk_level  \n",
              "0         Low                           1              Good  Medium Risk  \n",
              "1         Low                           1           Average  Medium Risk  \n",
              "2        High                           0           Average    High Risk  \n",
              "3    Moderate                   2 or more           Average     Low Risk  \n",
              "4         Low                           1           Average    High Risk  "
            ]
          },
          "execution_count": 48,
          "metadata": {},
          "output_type": "execute_result"
        }
      ],
      "source": [
        "#Loading the dataset\n",
        "maternal = pd.read_csv(\"mamacare_symptom_risk_dataset.csv\")\n",
        "maternal.head() #to get the first five rows"
      ]
    },
    {
      "cell_type": "code",
      "execution_count": 49,
      "metadata": {
        "id": "_CVCQb_h8qFR"
      },
      "outputs": [],
      "source": [
        "#changing the column names\n",
        "maternal.columns=['severe headache','blurred vision','swelling hands/face','vaginal bleeding','severe abdominal pain','dizziness or fainting','low fetal movement','high stress','visited antenatal last month','nutrition quality','risk level']"
      ]
    },
    {
      "cell_type": "code",
      "execution_count": 50,
      "metadata": {
        "colab": {
          "base_uri": "https://localhost:8080/"
        },
        "id": "oYSJ_CFYZqHk",
        "outputId": "59170994-1eb9-4447-8f89-35f7dc676543"
      },
      "outputs": [
        {
          "data": {
            "text/plain": [
              "(1000, 11)"
            ]
          },
          "execution_count": 50,
          "metadata": {},
          "output_type": "execute_result"
        }
      ],
      "source": [
        "maternal.shape\n",
        "#checking the number of rows and columns"
      ]
    },
    {
      "cell_type": "code",
      "execution_count": 51,
      "metadata": {
        "colab": {
          "base_uri": "https://localhost:8080/",
          "height": 310
        },
        "id": "gBrAQexbZ4EN",
        "outputId": "94c0a94b-da74-44d2-a7c1-6e2d3f04327c"
      },
      "outputs": [
        {
          "data": {
            "text/html": [
              "<div>\n",
              "<style scoped>\n",
              "    .dataframe tbody tr th:only-of-type {\n",
              "        vertical-align: middle;\n",
              "    }\n",
              "\n",
              "    .dataframe tbody tr th {\n",
              "        vertical-align: top;\n",
              "    }\n",
              "\n",
              "    .dataframe thead th {\n",
              "        text-align: right;\n",
              "    }\n",
              "</style>\n",
              "<table border=\"1\" class=\"dataframe\">\n",
              "  <thead>\n",
              "    <tr style=\"text-align: right;\">\n",
              "      <th></th>\n",
              "      <th>severe headache</th>\n",
              "      <th>blurred vision</th>\n",
              "      <th>swelling hands/face</th>\n",
              "      <th>vaginal bleeding</th>\n",
              "      <th>severe abdominal pain</th>\n",
              "      <th>dizziness or fainting</th>\n",
              "      <th>low fetal movement</th>\n",
              "      <th>high stress</th>\n",
              "      <th>visited antenatal last month</th>\n",
              "      <th>nutrition quality</th>\n",
              "      <th>risk level</th>\n",
              "    </tr>\n",
              "  </thead>\n",
              "  <tbody>\n",
              "    <tr>\n",
              "      <th>0</th>\n",
              "      <td>No</td>\n",
              "      <td>Yes</td>\n",
              "      <td>Yes</td>\n",
              "      <td>No</td>\n",
              "      <td>No</td>\n",
              "      <td>No</td>\n",
              "      <td>No</td>\n",
              "      <td>Low</td>\n",
              "      <td>1</td>\n",
              "      <td>Good</td>\n",
              "      <td>Medium Risk</td>\n",
              "    </tr>\n",
              "    <tr>\n",
              "      <th>1</th>\n",
              "      <td>No</td>\n",
              "      <td>No</td>\n",
              "      <td>Yes</td>\n",
              "      <td>No</td>\n",
              "      <td>No</td>\n",
              "      <td>No</td>\n",
              "      <td>Yes</td>\n",
              "      <td>Low</td>\n",
              "      <td>1</td>\n",
              "      <td>Average</td>\n",
              "      <td>Medium Risk</td>\n",
              "    </tr>\n",
              "    <tr>\n",
              "      <th>2</th>\n",
              "      <td>No</td>\n",
              "      <td>No</td>\n",
              "      <td>No</td>\n",
              "      <td>No</td>\n",
              "      <td>No</td>\n",
              "      <td>No</td>\n",
              "      <td>No</td>\n",
              "      <td>High</td>\n",
              "      <td>0</td>\n",
              "      <td>Average</td>\n",
              "      <td>High Risk</td>\n",
              "    </tr>\n",
              "    <tr>\n",
              "      <th>3</th>\n",
              "      <td>No</td>\n",
              "      <td>No</td>\n",
              "      <td>Yes</td>\n",
              "      <td>No</td>\n",
              "      <td>No</td>\n",
              "      <td>No</td>\n",
              "      <td>No</td>\n",
              "      <td>Moderate</td>\n",
              "      <td>2 or more</td>\n",
              "      <td>Average</td>\n",
              "      <td>Low Risk</td>\n",
              "    </tr>\n",
              "    <tr>\n",
              "      <th>4</th>\n",
              "      <td>Yes</td>\n",
              "      <td>No</td>\n",
              "      <td>Yes</td>\n",
              "      <td>No</td>\n",
              "      <td>Yes</td>\n",
              "      <td>No</td>\n",
              "      <td>Yes</td>\n",
              "      <td>Low</td>\n",
              "      <td>1</td>\n",
              "      <td>Average</td>\n",
              "      <td>High Risk</td>\n",
              "    </tr>\n",
              "  </tbody>\n",
              "</table>\n",
              "</div>"
            ],
            "text/plain": [
              "  severe headache blurred vision swelling hands/face vaginal bleeding  \\\n",
              "0              No            Yes                 Yes               No   \n",
              "1              No             No                 Yes               No   \n",
              "2              No             No                  No               No   \n",
              "3              No             No                 Yes               No   \n",
              "4             Yes             No                 Yes               No   \n",
              "\n",
              "  severe abdominal pain dizziness or fainting low fetal movement high stress  \\\n",
              "0                    No                    No                 No         Low   \n",
              "1                    No                    No                Yes         Low   \n",
              "2                    No                    No                 No        High   \n",
              "3                    No                    No                 No    Moderate   \n",
              "4                   Yes                    No                Yes         Low   \n",
              "\n",
              "  visited antenatal last month nutrition quality   risk level  \n",
              "0                            1              Good  Medium Risk  \n",
              "1                            1           Average  Medium Risk  \n",
              "2                            0           Average    High Risk  \n",
              "3                    2 or more           Average     Low Risk  \n",
              "4                            1           Average    High Risk  "
            ]
          },
          "execution_count": 51,
          "metadata": {},
          "output_type": "execute_result"
        }
      ],
      "source": [
        "maternal.head()\n",
        "# Display the first five rows of the dataset to get an overview of its structure and contents\n"
      ]
    },
    {
      "cell_type": "code",
      "execution_count": 52,
      "metadata": {
        "colab": {
          "base_uri": "https://localhost:8080/",
          "height": 429
        },
        "id": "ot45bCW4aNbA",
        "outputId": "6bb5edda-87a4-48d8-984e-8bcdc48ff79c"
      },
      "outputs": [
        {
          "data": {
            "text/plain": [
              "severe headache                 0\n",
              "blurred vision                  0\n",
              "swelling hands/face             0\n",
              "vaginal bleeding                0\n",
              "severe abdominal pain           0\n",
              "dizziness or fainting           0\n",
              "low fetal movement              0\n",
              "high stress                     0\n",
              "visited antenatal last month    0\n",
              "nutrition quality               0\n",
              "risk level                      0\n",
              "dtype: int64"
            ]
          },
          "execution_count": 52,
          "metadata": {},
          "output_type": "execute_result"
        }
      ],
      "source": [
        "maternal.isnull().sum()\n",
        "#checking for null values"
      ]
    },
    {
      "cell_type": "code",
      "execution_count": 53,
      "metadata": {
        "colab": {
          "base_uri": "https://localhost:8080/"
        },
        "id": "nQPNBix1adNA",
        "outputId": "baa540b5-5c93-40d3-8e7b-90b5942e1cdb"
      },
      "outputs": [
        {
          "data": {
            "text/plain": [
              "np.int64(475)"
            ]
          },
          "execution_count": 53,
          "metadata": {},
          "output_type": "execute_result"
        }
      ],
      "source": [
        "maternal.duplicated().sum()\n",
        "#checking for duplicate values"
      ]
    },
    {
      "cell_type": "code",
      "execution_count": 54,
      "metadata": {
        "id": "hoX-Q3VWaiwM"
      },
      "outputs": [],
      "source": [
        "maternal = maternal.drop_duplicates()\n",
        "#dropping duplicates"
      ]
    },
    {
      "cell_type": "code",
      "execution_count": 55,
      "metadata": {
        "colab": {
          "base_uri": "https://localhost:8080/"
        },
        "id": "lpC6jocAauTg",
        "outputId": "0adae464-63ad-491c-f6e8-d9e361808169"
      },
      "outputs": [
        {
          "data": {
            "text/plain": [
              "(525, 11)"
            ]
          },
          "execution_count": 55,
          "metadata": {},
          "output_type": "execute_result"
        }
      ],
      "source": [
        "maternal.shape"
      ]
    },
    {
      "cell_type": "code",
      "execution_count": 56,
      "metadata": {
        "colab": {
          "base_uri": "https://localhost:8080/",
          "height": 209
        },
        "id": "1hN6YNt7gb8n",
        "outputId": "2add4299-dad0-4ab0-c57f-c9f1ac7a1d6c"
      },
      "outputs": [
        {
          "data": {
            "text/plain": [
              "risk level\n",
              "High Risk      313\n",
              "Medium Risk    144\n",
              "Low Risk        68\n",
              "Name: count, dtype: int64"
            ]
          },
          "execution_count": 56,
          "metadata": {},
          "output_type": "execute_result"
        }
      ],
      "source": [
        "# Count the occurrences of each category in the 'risk level' column\n",
        "maternal['risk level'].value_counts()"
      ]
    },
    {
      "cell_type": "code",
      "execution_count": 57,
      "metadata": {
        "colab": {
          "base_uri": "https://localhost:8080/"
        },
        "id": "0ZqXcgNUayEG",
        "outputId": "a2adf066-b89f-48a0-adc3-254cb946ec87"
      },
      "outputs": [
        {
          "name": "stdout",
          "output_type": "stream",
          "text": [
            "<class 'pandas.core.frame.DataFrame'>\n",
            "Index: 525 entries, 0 to 999\n",
            "Data columns (total 11 columns):\n",
            " #   Column                        Non-Null Count  Dtype \n",
            "---  ------                        --------------  ----- \n",
            " 0   severe headache               525 non-null    object\n",
            " 1   blurred vision                525 non-null    object\n",
            " 2   swelling hands/face           525 non-null    object\n",
            " 3   vaginal bleeding              525 non-null    object\n",
            " 4   severe abdominal pain         525 non-null    object\n",
            " 5   dizziness or fainting         525 non-null    object\n",
            " 6   low fetal movement            525 non-null    object\n",
            " 7   high stress                   525 non-null    object\n",
            " 8   visited antenatal last month  525 non-null    object\n",
            " 9   nutrition quality             525 non-null    object\n",
            " 10  risk level                    525 non-null    object\n",
            "dtypes: object(11)\n",
            "memory usage: 49.2+ KB\n"
          ]
        }
      ],
      "source": [
        "# Display summary information about the maternal DataFrame\n",
        "maternal.info()"
      ]
    },
    {
      "cell_type": "code",
      "execution_count": 58,
      "metadata": {
        "colab": {
          "base_uri": "https://localhost:8080/",
          "height": 307
        },
        "id": "kFchAoqGd2Ef",
        "outputId": "1cbec7f9-003a-4721-fe37-b9e1ff9afe83"
      },
      "outputs": [
        {
          "data": {
            "image/png": "[encoded data removed]",
            "text/plain": [
              "<Figure size 400x300 with 1 Axes>"
            ]
          },
          "metadata": {},
          "output_type": "display_data"
        }
      ],
      "source": [
        "# Plotting a countplot showing the distribution of risk level\n",
        "plt.figure(figsize=(4,3))\n",
        "sns.countplot(data=maternal, x='risk level',color='mediumaquamarine')\n",
        "plt.title('Overall Risk Distribution')\n",
        "plt.tight_layout()\n",
        "plt.show()\n",
        "# From the plot, it can be seen that high risk has the highest risk level."
      ]
    },
    {
      "cell_type": "code",
      "execution_count": 59,
      "metadata": {
        "colab": {
          "base_uri": "https://localhost:8080/",
          "height": 307
        },
        "id": "c28hE9pXf1oQ",
        "outputId": "f87e3fe6-52bd-4701-a6d3-467ac21dcbdc"
      },
      "outputs": [
        {
          "data": {
            "image/png": "[encoded data removed]",
            "text/plain": [
              "<Figure size 400x300 with 1 Axes>"
            ]
          },
          "metadata": {},
          "output_type": "display_data"
        }
      ],
      "source": [
        "# Plotting a countplot to show the distribution of 'nutrition quality' in the maternal dataset\n",
        "plt.figure(figsize=(4,3))\n",
        "sns.countplot(data=maternal, x='nutrition quality',color='aqua')\n",
        "plt.title('Overall Nutritional Distribution')\n",
        "plt.tight_layout()\n",
        "plt.show()\n",
        "# Observation: 'average' is the most frequent category for nutrition quality in the dataset"
      ]
    },
    {
      "cell_type": "code",
      "execution_count": 60,
      "metadata": {
        "colab": {
          "base_uri": "https://localhost:8080/",
          "height": 209
        },
        "id": "gBr1saJL_bwQ",
        "outputId": "8a394bfb-4dbc-488d-f010-298feead6162"
      },
      "outputs": [
        {
          "data": {
            "text/plain": [
              "visited antenatal last month\n",
              "1            231\n",
              "0            173\n",
              "2 or more    121\n",
              "Name: count, dtype: int64"
            ]
          },
          "execution_count": 60,
          "metadata": {},
          "output_type": "execute_result"
        }
      ],
      "source": [
        "# Count the number of maternal cases based on whether they visited antenatal care last month\n",
        "maternal['visited antenatal last month'].value_counts()"
      ]
    },
    {
      "cell_type": "code",
      "execution_count": 61,
      "metadata": {
        "id": "cKJfA0UZEOp7"
      },
      "outputs": [],
      "source": [
        "# Mapping the 'visited antenatal last month' categories to numeric values\n",
        "visited = {0:0, 1:1, \"2 or more\":2}"
      ]
    },
    {
      "cell_type": "code",
      "execution_count": 62,
      "metadata": {
        "id": "kSdPSLZQFFYz"
      },
      "outputs": [],
      "source": [
        "# Replace categorical values in 'visited antenatal last month' column with corresponding numeric values using the 'visited' dictionary\n",
        "maternal['visited antenatal last month'] = maternal['visited antenatal last month'].replace(visited)"
      ]
    },
    {
      "cell_type": "code",
      "execution_count": 63,
      "metadata": {
        "id": "Ugi0gddIFc1B"
      },
      "outputs": [],
      "source": [
        "binarycolumns = ['severe headache','blurred vision','swelling hands/face','vaginal bleeding','severe abdominal pain','dizziness or fainting','low fetal movement']"
      ]
    },
    {
      "cell_type": "code",
      "execution_count": 64,
      "metadata": {
        "id": "p2eX1wnAH7GJ"
      },
      "outputs": [],
      "source": [
        "for col in binarycolumns:\n",
        "    maternal[col] = maternal[col].map({'Yes': 1, 'No': 0})\n",
        "    #changing the columns into numerical values\n"
      ]
    },
    {
      "cell_type": "code",
      "execution_count": 65,
      "metadata": {
        "colab": {
          "base_uri": "https://localhost:8080/",
          "height": 209
        },
        "id": "rMJTG3PBIKyp",
        "outputId": "f1939b5c-98b5-4337-9fb2-b8af2136a69d"
      },
      "outputs": [
        {
          "data": {
            "text/plain": [
              "high stress\n",
              "Low         209\n",
              "Moderate    199\n",
              "High        117\n",
              "Name: count, dtype: int64"
            ]
          },
          "execution_count": 65,
          "metadata": {},
          "output_type": "execute_result"
        }
      ],
      "source": [
        "# Count the number of occurrences for each stress level category in the 'high stress' column\n",
        "\n",
        "maternal['high stress'].value_counts()\n",
        "# Observation: Most mothers are classified as having low or moderate stress, while a smaller portion (117) experience high stress\n"
      ]
    },
    {
      "cell_type": "code",
      "execution_count": 66,
      "metadata": {
        "id": "vtNGz7k7KB_Q"
      },
      "outputs": [],
      "source": [
        "# Map the 'high stress' levels to numeric values\n",
        "maternal['high stress'] = maternal['high stress'].map({'Low':0, 'Moderate':1, 'High':3})"
      ]
    },
    {
      "cell_type": "code",
      "execution_count": 67,
      "metadata": {
        "id": "OyYObwClLEwY"
      },
      "outputs": [],
      "source": [
        "# Convert 'nutrition quality' categories to numeric values\n",
        "maternal['nutrition quality'] = maternal['nutrition quality'].map({'Poor':0, 'Average':1, 'Good':2})"
      ]
    },
    {
      "cell_type": "code",
      "execution_count": 68,
      "metadata": {
        "id": "PZ_6kogZLzgM"
      },
      "outputs": [],
      "source": [
        "# Encode 'risk level' categories into numeric values\n",
        "maternal['risk level'] = maternal['risk level'].map({'Low Risk':0, 'Medium Risk':1, 'High Risk':2})"
      ]
    },
    {
      "cell_type": "code",
      "execution_count": 69,
      "metadata": {
        "colab": {
          "base_uri": "https://localhost:8080/",
          "height": 241
        },
        "id": "qS0LXIapNDuu",
        "outputId": "b8cee891-06f8-460b-eeb1-75a207949c12"
      },
      "outputs": [
        {
          "data": {
            "text/html": [
              "<div>\n",
              "<style scoped>\n",
              "    .dataframe tbody tr th:only-of-type {\n",
              "        vertical-align: middle;\n",
              "    }\n",
              "\n",
              "    .dataframe tbody tr th {\n",
              "        vertical-align: top;\n",
              "    }\n",
              "\n",
              "    .dataframe thead th {\n",
              "        text-align: right;\n",
              "    }\n",
              "</style>\n",
              "<table border=\"1\" class=\"dataframe\">\n",
              "  <thead>\n",
              "    <tr style=\"text-align: right;\">\n",
              "      <th></th>\n",
              "      <th>severe headache</th>\n",
              "      <th>blurred vision</th>\n",
              "      <th>swelling hands/face</th>\n",
              "      <th>vaginal bleeding</th>\n",
              "      <th>severe abdominal pain</th>\n",
              "      <th>dizziness or fainting</th>\n",
              "      <th>low fetal movement</th>\n",
              "      <th>high stress</th>\n",
              "      <th>visited antenatal last month</th>\n",
              "      <th>nutrition quality</th>\n",
              "      <th>risk level</th>\n",
              "    </tr>\n",
              "  </thead>\n",
              "  <tbody>\n",
              "    <tr>\n",
              "      <th>0</th>\n",
              "      <td>0</td>\n",
              "      <td>1</td>\n",
              "      <td>1</td>\n",
              "      <td>0</td>\n",
              "      <td>0</td>\n",
              "      <td>0</td>\n",
              "      <td>0</td>\n",
              "      <td>0</td>\n",
              "      <td>1</td>\n",
              "      <td>2</td>\n",
              "      <td>1</td>\n",
              "    </tr>\n",
              "    <tr>\n",
              "      <th>1</th>\n",
              "      <td>0</td>\n",
              "      <td>0</td>\n",
              "      <td>1</td>\n",
              "      <td>0</td>\n",
              "      <td>0</td>\n",
              "      <td>0</td>\n",
              "      <td>1</td>\n",
              "      <td>0</td>\n",
              "      <td>1</td>\n",
              "      <td>1</td>\n",
              "      <td>1</td>\n",
              "    </tr>\n",
              "    <tr>\n",
              "      <th>2</th>\n",
              "      <td>0</td>\n",
              "      <td>0</td>\n",
              "      <td>0</td>\n",
              "      <td>0</td>\n",
              "      <td>0</td>\n",
              "      <td>0</td>\n",
              "      <td>0</td>\n",
              "      <td>3</td>\n",
              "      <td>0</td>\n",
              "      <td>1</td>\n",
              "      <td>2</td>\n",
              "    </tr>\n",
              "    <tr>\n",
              "      <th>3</th>\n",
              "      <td>0</td>\n",
              "      <td>0</td>\n",
              "      <td>1</td>\n",
              "      <td>0</td>\n",
              "      <td>0</td>\n",
              "      <td>0</td>\n",
              "      <td>0</td>\n",
              "      <td>1</td>\n",
              "      <td>2</td>\n",
              "      <td>1</td>\n",
              "      <td>0</td>\n",
              "    </tr>\n",
              "    <tr>\n",
              "      <th>4</th>\n",
              "      <td>1</td>\n",
              "      <td>0</td>\n",
              "      <td>1</td>\n",
              "      <td>0</td>\n",
              "      <td>1</td>\n",
              "      <td>0</td>\n",
              "      <td>1</td>\n",
              "      <td>0</td>\n",
              "      <td>1</td>\n",
              "      <td>1</td>\n",
              "      <td>2</td>\n",
              "    </tr>\n",
              "  </tbody>\n",
              "</table>\n",
              "</div>"
            ],
            "text/plain": [
              "   severe headache  blurred vision  swelling hands/face  vaginal bleeding  \\\n",
              "0                0               1                    1                 0   \n",
              "1                0               0                    1                 0   \n",
              "2                0               0                    0                 0   \n",
              "3                0               0                    1                 0   \n",
              "4                1               0                    1                 0   \n",
              "\n",
              "   severe abdominal pain  dizziness or fainting  low fetal movement  \\\n",
              "0                      0                      0                   0   \n",
              "1                      0                      0                   1   \n",
              "2                      0                      0                   0   \n",
              "3                      0                      0                   0   \n",
              "4                      1                      0                   1   \n",
              "\n",
              "   high stress visited antenatal last month  nutrition quality  risk level  \n",
              "0            0                            1                  2           1  \n",
              "1            0                            1                  1           1  \n",
              "2            3                            0                  1           2  \n",
              "3            1                            2                  1           0  \n",
              "4            0                            1                  1           2  "
            ]
          },
          "execution_count": 69,
          "metadata": {},
          "output_type": "execute_result"
        }
      ],
      "source": [
        "maternal.head()"
      ]
    },
    {
      "cell_type": "code",
      "execution_count": 70,
      "metadata": {
        "id": "fAgX_4AzNGKk"
      },
      "outputs": [],
      "source": [
        "#splitting my data into features and target"
      ]
    },
    {
      "cell_type": "code",
      "execution_count": 71,
      "metadata": {
        "id": "5ldvQsTENfp8"
      },
      "outputs": [],
      "source": [
        "# Separating the features and target variable\n",
        "X = maternal.drop('risk level', axis=1)\n",
        "y = maternal['risk level']"
      ]
    },
    {
      "cell_type": "code",
      "execution_count": 72,
      "metadata": {
        "id": "4zhsd7FpNsUB"
      },
      "outputs": [],
      "source": [
        "#Handling imbalance dataset\n",
        "from imblearn.over_sampling import SMOTE"
      ]
    },
    {
      "cell_type": "code",
      "execution_count": 73,
      "metadata": {
        "id": "CFjHNWQbSzse"
      },
      "outputs": [],
      "source": [
        "# Apply SMOTE (Synthetic Minority Over-sampling Technique) to balance the classes in the target variable\n",
        "\n",
        "smote = SMOTE(random_state=42)\n",
        "X_resampled, y_resampled = smote.fit_resample(X, y)"
      ]
    },
    {
      "cell_type": "code",
      "execution_count": 74,
      "metadata": {
        "id": "9RPYHi-FaHMl"
      },
      "outputs": [],
      "source": [
        "# Split the resampled dataset into training and testing sets\n",
        "# 80% of the data is used for training, and 20% for testing\n",
        "X_train, X_test, y_train, y_test = train_test_split(\n",
        "    X_resampled, y_resampled,\n",
        "    test_size=0.2,\n",
        "    random_state=42,\n",
        ")"
      ]
    },
    {
      "cell_type": "code",
      "execution_count": 75,
      "metadata": {
        "id": "6bLau1qaS480"
      },
      "outputs": [],
      "source": [
        "# Define a dictionary of machine learning models and their corresponding hyperparameter grids\n",
        "models = {\n",
        "    'Logistic Regression': {\n",
        "        'model': LogisticRegression(max_iter=1000),\n",
        "        'params': {\n",
        "            'C': [0.01, 0.1, 1, 10],\n",
        "            'penalty': ['l1', 'l2'],\n",
        "            'solver': ['liblinear']\n",
        "        }\n",
        "    },\n",
        "    'SVC': {\n",
        "        'model': SVC(),\n",
        "        'params': {\n",
        "            'C': [0.1, 1, 10],\n",
        "            'kernel': ['linear', 'rbf'],\n",
        "            'gamma': ['scale', 'auto']\n",
        "        }\n",
        "    },\n",
        "    'RandomForest': {\n",
        "        'model':RandomForestClassifier(),\n",
        "        'params': {\n",
        "            'n_estimators': [50, 100, 150,500],\n",
        "            'max_features':['log2'],\n",
        "           'min_samples_leaf':[1],\n",
        "            'max_depth': [3,5,7,None],\n",
        "            'min_samples_split': [2, 5, 10]\n",
        "        }\n",
        "    },\n",
        "    'DecisionTree': {\n",
        "        'model': DecisionTreeClassifier(),\n",
        "        'params': {\n",
        "            'criterion': ['gini', 'entropy'],\n",
        "            'max_depth': [None, 5, 10],\n",
        "            'splitter':['best'],\n",
        "            'min_samples_split':[5],\n",
        "            'max_features':['sqrt'],\n",
        "        }\n",
        "    },\n",
        "    'GradientBoosting': {\n",
        "        'model': GradientBoostingClassifier(),\n",
        "        'params': {\n",
        "            'n_estimators': [50, 100,200],\n",
        "            'learning_rate':[0.1],\n",
        "            'max_depth':[4],\n",
        "            'min_samples_split':[5],\n",
        "            'min_samples_leaf':[2],\n",
        "            'subsample':[0.8],\n",
        "            'max_features':['sqrt'],\n",
        "        }\n",
        "    }\n",
        "}\n"
      ]
    },
    {
      "cell_type": "code",
      "execution_count": 77,
      "metadata": {
        "colab": {
          "base_uri": "https://localhost:8080/"
        },
        "id": "l2TRazfSZJw4",
        "outputId": "c3ee83f7-2483-4010-e3db-24cca481d88f"
      },
      "outputs": [
        {
          "name": "stdout",
          "output_type": "stream",
          "text": [
            "Logistic Regression best parameters: {'C': 10, 'penalty': 'l1', 'solver': 'liblinear'}\n",
            "SVC best parameters: {'C': 10, 'gamma': 'auto', 'kernel': 'rbf'}\n",
            "RandomForest best parameters: {'max_depth': None, 'max_features': 'log2', 'min_samples_leaf': 1, 'min_samples_split': 5, 'n_estimators': 100}\n",
            "DecisionTree best parameters: {'criterion': 'gini', 'max_depth': None, 'max_features': 'sqrt', 'min_samples_split': 5, 'splitter': 'best'}\n",
            "GradientBoosting best parameters: {'learning_rate': 0.1, 'max_depth': 4, 'max_features': 'sqrt', 'min_samples_leaf': 2, 'min_samples_split': 5, 'n_estimators': 100, 'subsample': 0.8}\n"
          ]
        }
      ],
      "source": [
        "# Perform hyperparameter tuning for each model using GridSearchCV with 5-fold cross-validation\n",
        "# For each model in the 'models' dictionary:\n",
        "# - Initialize GridSearchCV with the model and its parameter grid\n",
        "# - Fit the GridSearchCV on the training data to find the best hyperparameters\n",
        "# - Store the fitted GridSearchCV object (with the best model) in the 'best_models' dictionary\n",
        "# - Print out the best hyperparameters found for each model\n",
        "best_models = {}\n",
        "for model_name, mp in models.items():\n",
        "    clf = GridSearchCV(mp['model'], mp['params'], cv=5)\n",
        "    clf.fit(X_train, y_train)\n",
        "    best_models[model_name] = clf\n",
        "    print(f\"{model_name} best parameters: {clf.best_params_}\")\n"
      ]
    },
    {
      "cell_type": "code",
      "execution_count": 79,
      "metadata": {
        "id": "mix3dWlFbOAZ"
      },
      "outputs": [],
      "source": [
        "from sklearn.metrics import recall_score"
      ]
    },
    {
      "cell_type": "code",
      "execution_count": 80,
      "metadata": {
        "colab": {
          "base_uri": "https://localhost:8080/"
        },
        "id": "vyi-2Gubaewy",
        "outputId": "9f9ea57d-0ad9-4279-8529-89e2835cc46e"
      },
      "outputs": [
        {
          "name": "stdout",
          "output_type": "stream",
          "text": [
            "\n",
            "Model: Logistic Regression\n",
            "Accuracy: 0.8457446808510638\n",
            "Precision: 0.8436866767983789\n",
            "F1 Score: 0.843800246218737\n",
            "Recall: 0.8457446808510638\n",
            "              precision    recall  f1-score   support\n",
            "\n",
            "           0       0.92      0.99      0.95        67\n",
            "           1       0.84      0.77      0.80        61\n",
            "           2       0.77      0.77      0.77        60\n",
            "\n",
            "    accuracy                           0.85       188\n",
            "   macro avg       0.84      0.84      0.84       188\n",
            "weighted avg       0.84      0.85      0.84       188\n",
            "\n",
            "\n",
            "Model: SVC\n",
            "Accuracy: 0.9840425531914894\n",
            "Precision: 0.9842141386410432\n",
            "F1 Score: 0.9840874240609306\n",
            "Recall: 0.9840425531914894\n",
            "              precision    recall  f1-score   support\n",
            "\n",
            "           0       1.00      0.99      0.99        67\n",
            "           1       0.97      0.98      0.98        61\n",
            "           2       0.98      0.98      0.98        60\n",
            "\n",
            "    accuracy                           0.98       188\n",
            "   macro avg       0.98      0.98      0.98       188\n",
            "weighted avg       0.98      0.98      0.98       188\n",
            "\n",
            "\n",
            "Model: RandomForest\n",
            "Accuracy: 0.9521276595744681\n",
            "Precision: 0.9561704114269821\n",
            "F1 Score: 0.9527309405092681\n",
            "Recall: 0.9521276595744681\n",
            "              precision    recall  f1-score   support\n",
            "\n",
            "           0       0.98      0.93      0.95        67\n",
            "           1       0.88      0.98      0.93        61\n",
            "           2       1.00      0.95      0.97        60\n",
            "\n",
            "    accuracy                           0.95       188\n",
            "   macro avg       0.96      0.95      0.95       188\n",
            "weighted avg       0.96      0.95      0.95       188\n",
            "\n",
            "\n",
            "Model: DecisionTree\n",
            "Accuracy: 0.8457446808510638\n",
            "Precision: 0.8457446808510638\n",
            "F1 Score: 0.8457446808510638\n",
            "Recall: 0.8457446808510638\n",
            "              precision    recall  f1-score   support\n",
            "\n",
            "           0       0.88      0.88      0.88        67\n",
            "           1       0.77      0.77      0.77        61\n",
            "           2       0.88      0.88      0.88        60\n",
            "\n",
            "    accuracy                           0.85       188\n",
            "   macro avg       0.84      0.84      0.84       188\n",
            "weighted avg       0.85      0.85      0.85       188\n",
            "\n",
            "\n",
            "Model: GradientBoosting\n",
            "Accuracy: 0.9414893617021277\n",
            "Precision: 0.9427360372340425\n",
            "F1 Score: 0.9417651453630014\n",
            "Recall: 0.9414893617021277\n",
            "              precision    recall  f1-score   support\n",
            "\n",
            "           0       0.97      0.93      0.95        67\n",
            "           1       0.89      0.93      0.91        61\n",
            "           2       0.97      0.97      0.97        60\n",
            "\n",
            "    accuracy                           0.94       188\n",
            "   macro avg       0.94      0.94      0.94       188\n",
            "weighted avg       0.94      0.94      0.94       188\n",
            "\n"
          ]
        }
      ],
      "source": [
        "# Evaluate each best-tuned model on the test set\n",
        "# For each model in 'best_models':\n",
        "# - Predict the target values using the test features\n",
        "# - Calculate and print key classification metrics: Accuracy, Precision, F1 Score, and Recall (all weighted for multi-class)\n",
        "# - Print a detailed classification report showing precision, recall, F1-score, and support for each class\n",
        "\n",
        "for model_name, model in best_models.items():\n",
        "    y_pred = model.predict(X_test)\n",
        "    print(f\"\\nModel: {model_name}\")\n",
        "    print(\"Accuracy:\", accuracy_score(y_test, y_pred))\n",
        "    print(\"Precision:\", precision_score(y_test, y_pred, average='weighted'))\n",
        "    print(\"F1 Score:\", f1_score(y_test, y_pred, average='weighted'))\n",
        "    print(\"Recall:\", recall_score(y_test, y_pred, average='weighted'))\n",
        "    print(classification_report(y_test, y_pred))"
      ]
    },
    {
      "cell_type": "code",
      "execution_count": 81,
      "metadata": {
        "id": "rj1gD5v_xeDr"
      },
      "outputs": [],
      "source": [
        "target = ['Low Risk', 'Medium Risk', 'High Risk']"
      ]
    },
    {
      "cell_type": "code",
      "execution_count": 82,
      "metadata": {
        "id": "trfvois3xtHE"
      },
      "outputs": [],
      "source": [
        "svc_best = SVC(C=10, gamma='auto', kernel='rbf')"
      ]
    },
    {
      "cell_type": "code",
      "execution_count": 83,
      "metadata": {
        "colab": {
          "base_uri": "https://localhost:8080/",
          "height": 80
        },
        "id": "rl7P02442s1I",
        "outputId": "3dcb764a-3add-4b19-a349-1733a710f256"
      },
      "outputs": [
        {
          "data": {
            "text/html": [
              "<style>#sk-container-id-2 {\n",
              "  /* Definition of color scheme common for light and dark mode */\n",
              "  --sklearn-color-text: #000;\n",
              "  --sklearn-color-text-muted: #666;\n",
              "  --sklearn-color-line: gray;\n",
              "  /* Definition of color scheme for unfitted estimators */\n",
              "  --sklearn-color-unfitted-level-0: #fff5e6;\n",
              "  --sklearn-color-unfitted-level-1: #f6e4d2;\n",
              "  --sklearn-color-unfitted-level-2: #ffe0b3;\n",
              "  --sklearn-color-unfitted-level-3: chocolate;\n",
              "  /* Definition of color scheme for fitted estimators */\n",
              "  --sklearn-color-fitted-level-0: #f0f8ff;\n",
              "  --sklearn-color-fitted-level-1: #d4ebff;\n",
              "  --sklearn-color-fitted-level-2: #b3dbfd;\n",
              "  --sklearn-color-fitted-level-3: cornflowerblue;\n",
              "\n",
              "  /* Specific color for light theme */\n",
              "  --sklearn-color-text-on-default-background: var(--sg-text-color, var(--theme-code-foreground, var(--jp-content-font-color1, black)));\n",
              "  --sklearn-color-background: var(--sg-background-color, var(--theme-background, var(--jp-layout-color0, white)));\n",
              "  --sklearn-color-border-box: var(--sg-text-color, var(--theme-code-foreground, var(--jp-content-font-color1, black)));\n",
              "  --sklearn-color-icon: #696969;\n",
              "\n",
              "  @media (prefers-color-scheme: dark) {\n",
              "    /* Redefinition of color scheme for dark theme */\n",
              "    --sklearn-color-text-on-default-background: var(--sg-text-color, var(--theme-code-foreground, var(--jp-content-font-color1, white)));\n",
              "    --sklearn-color-background: var(--sg-background-color, var(--theme-background, var(--jp-layout-color0, #111)));\n",
              "    --sklearn-color-border-box: var(--sg-text-color, var(--theme-code-foreground, var(--jp-content-font-color1, white)));\n",
              "    --sklearn-color-icon: #878787;\n",
              "  }\n",
              "}\n",
              "\n",
              "#sk-container-id-2 {\n",
              "  color: var(--sklearn-color-text);\n",
              "}\n",
              "\n",
              "#sk-container-id-2 pre {\n",
              "  padding: 0;\n",
              "}\n",
              "\n",
              "#sk-container-id-2 input.sk-hidden--visually {\n",
              "  border: 0;\n",
              "  clip: rect(1px 1px 1px 1px);\n",
              "  clip: rect(1px, 1px, 1px, 1px);\n",
              "  height: 1px;\n",
              "  margin: -1px;\n",
              "  overflow: hidden;\n",
              "  padding: 0;\n",
              "  position: absolute;\n",
              "  width: 1px;\n",
              "}\n",
              "\n",
              "#sk-container-id-2 div.sk-dashed-wrapped {\n",
              "  border: 1px dashed var(--sklearn-color-line);\n",
              "  margin: 0 0.4em 0.5em 0.4em;\n",
              "  box-sizing: border-box;\n",
              "  padding-bottom: 0.4em;\n",
              "  background-color: var(--sklearn-color-background);\n",
              "}\n",
              "\n",
              "#sk-container-id-2 div.sk-container {\n",
              "  /* jupyter's `normalize.less` sets `[hidden] { display: none; }`\n",
              "     but bootstrap.min.css set `[hidden] { display: none !important; }`\n",
              "     so we also need the `!important` here to be able to override the\n",
              "     default hidden behavior on the sphinx rendered scikit-learn.org.\n",
              "     See: https://github.com/scikit-learn/scikit-learn/issues/21755 */\n",
              "  display: inline-block !important;\n",
              "  position: relative;\n",
              "}\n",
              "\n",
              "#sk-container-id-2 div.sk-text-repr-fallback {\n",
              "  display: none;\n",
              "}\n",
              "\n",
              "div.sk-parallel-item,\n",
              "div.sk-serial,\n",
              "div.sk-item {\n",
              "  /* draw centered vertical line to link estimators */\n",
              "  background-image: linear-gradient(var(--sklearn-color-text-on-default-background), var(--sklearn-color-text-on-default-background));\n",
              "  background-size: 2px 100%;\n",
              "  background-repeat: no-repeat;\n",
              "  background-position: center center;\n",
              "}\n",
              "\n",
              "/* Parallel-specific style estimator block */\n",
              "\n",
              "#sk-container-id-2 div.sk-parallel-item::after {\n",
              "  content: \"\";\n",
              "  width: 100%;\n",
              "  border-bottom: 2px solid var(--sklearn-color-text-on-default-background);\n",
              "  flex-grow: 1;\n",
              "}\n",
              "\n",
              "#sk-container-id-2 div.sk-parallel {\n",
              "  display: flex;\n",
              "  align-items: stretch;\n",
              "  justify-content: center;\n",
              "  background-color: var(--sklearn-color-background);\n",
              "  position: relative;\n",
              "}\n",
              "\n",
              "#sk-container-id-2 div.sk-parallel-item {\n",
              "  display: flex;\n",
              "  flex-direction: column;\n",
              "}\n",
              "\n",
              "#sk-container-id-2 div.sk-parallel-item:first-child::after {\n",
              "  align-self: flex-end;\n",
              "  width: 50%;\n",
              "}\n",
              "\n",
              "#sk-container-id-2 div.sk-parallel-item:last-child::after {\n",
              "  align-self: flex-start;\n",
              "  width: 50%;\n",
              "}\n",
              "\n",
              "#sk-container-id-2 div.sk-parallel-item:only-child::after {\n",
              "  width: 0;\n",
              "}\n",
              "\n",
              "/* Serial-specific style estimator block */\n",
              "\n",
              "#sk-container-id-2 div.sk-serial {\n",
              "  display: flex;\n",
              "  flex-direction: column;\n",
              "  align-items: center;\n",
              "  background-color: var(--sklearn-color-background);\n",
              "  padding-right: 1em;\n",
              "  padding-left: 1em;\n",
              "}\n",
              "\n",
              "\n",
              "/* Toggleable style: style used for estimator/Pipeline/ColumnTransformer box that is\n",
              "clickable and can be expanded/collapsed.\n",
              "- Pipeline and ColumnTransformer use this feature and define the default style\n",
              "- Estimators will overwrite some part of the style using the `sk-estimator` class\n",
              "*/\n",
              "\n",
              "/* Pipeline and ColumnTransformer style (default) */\n",
              "\n",
              "#sk-container-id-2 div.sk-toggleable {\n",
              "  /* Default theme specific background. It is overwritten whether we have a\n",
              "  specific estimator or a Pipeline/ColumnTransformer */\n",
              "  background-color: var(--sklearn-color-background);\n",
              "}\n",
              "\n",
              "/* Toggleable label */\n",
              "#sk-container-id-2 label.sk-toggleable__label {\n",
              "  cursor: pointer;\n",
              "  display: flex;\n",
              "  width: 100%;\n",
              "  margin-bottom: 0;\n",
              "  padding: 0.5em;\n",
              "  box-sizing: border-box;\n",
              "  text-align: center;\n",
              "  align-items: start;\n",
              "  justify-content: space-between;\n",
              "  gap: 0.5em;\n",
              "}\n",
              "\n",
              "#sk-container-id-2 label.sk-toggleable__label .caption {\n",
              "  font-size: 0.6rem;\n",
              "  font-weight: lighter;\n",
              "  color: var(--sklearn-color-text-muted);\n",
              "}\n",
              "\n",
              "#sk-container-id-2 label.sk-toggleable__label-arrow:before {\n",
              "  /* Arrow on the left of the label */\n",
              "  content: \"▸\";\n",
              "  float: left;\n",
              "  margin-right: 0.25em;\n",
              "  color: var(--sklearn-color-icon);\n",
              "}\n",
              "\n",
              "#sk-container-id-2 label.sk-toggleable__label-arrow:hover:before {\n",
              "  color: var(--sklearn-color-text);\n",
              "}\n",
              "\n",
              "/* Toggleable content - dropdown */\n",
              "\n",
              "#sk-container-id-2 div.sk-toggleable__content {\n",
              "  max-height: 0;\n",
              "  max-width: 0;\n",
              "  overflow: hidden;\n",
              "  text-align: left;\n",
              "  /* unfitted */\n",
              "  background-color: var(--sklearn-color-unfitted-level-0);\n",
              "}\n",
              "\n",
              "#sk-container-id-2 div.sk-toggleable__content.fitted {\n",
              "  /* fitted */\n",
              "  background-color: var(--sklearn-color-fitted-level-0);\n",
              "}\n",
              "\n",
              "#sk-container-id-2 div.sk-toggleable__content pre {\n",
              "  margin: 0.2em;\n",
              "  border-radius: 0.25em;\n",
              "  color: var(--sklearn-color-text);\n",
              "  /* unfitted */\n",
              "  background-color: var(--sklearn-color-unfitted-level-0);\n",
              "}\n",
              "\n",
              "#sk-container-id-2 div.sk-toggleable__content.fitted pre {\n",
              "  /* unfitted */\n",
              "  background-color: var(--sklearn-color-fitted-level-0);\n",
              "}\n",
              "\n",
              "#sk-container-id-2 input.sk-toggleable__control:checked~div.sk-toggleable__content {\n",
              "  /* Expand drop-down */\n",
              "  max-height: 200px;\n",
              "  max-width: 100%;\n",
              "  overflow: auto;\n",
              "}\n",
              "\n",
              "#sk-container-id-2 input.sk-toggleable__control:checked~label.sk-toggleable__label-arrow:before {\n",
              "  content: \"▾\";\n",
              "}\n",
              "\n",
              "/* Pipeline/ColumnTransformer-specific style */\n",
              "\n",
              "#sk-container-id-2 div.sk-label input.sk-toggleable__control:checked~label.sk-toggleable__label {\n",
              "  color: var(--sklearn-color-text);\n",
              "  background-color: var(--sklearn-color-unfitted-level-2);\n",
              "}\n",
              "\n",
              "#sk-container-id-2 div.sk-label.fitted input.sk-toggleable__control:checked~label.sk-toggleable__label {\n",
              "  background-color: var(--sklearn-color-fitted-level-2);\n",
              "}\n",
              "\n",
              "/* Estimator-specific style */\n",
              "\n",
              "/* Colorize estimator box */\n",
              "#sk-container-id-2 div.sk-estimator input.sk-toggleable__control:checked~label.sk-toggleable__label {\n",
              "  /* unfitted */\n",
              "  background-color: var(--sklearn-color-unfitted-level-2);\n",
              "}\n",
              "\n",
              "#sk-container-id-2 div.sk-estimator.fitted input.sk-toggleable__control:checked~label.sk-toggleable__label {\n",
              "  /* fitted */\n",
              "  background-color: var(--sklearn-color-fitted-level-2);\n",
              "}\n",
              "\n",
              "#sk-container-id-2 div.sk-label label.sk-toggleable__label,\n",
              "#sk-container-id-2 div.sk-label label {\n",
              "  /* The background is the default theme color */\n",
              "  color: var(--sklearn-color-text-on-default-background);\n",
              "}\n",
              "\n",
              "/* On hover, darken the color of the background */\n",
              "#sk-container-id-2 div.sk-label:hover label.sk-toggleable__label {\n",
              "  color: var(--sklearn-color-text);\n",
              "  background-color: var(--sklearn-color-unfitted-level-2);\n",
              "}\n",
              "\n",
              "/* Label box, darken color on hover, fitted */\n",
              "#sk-container-id-2 div.sk-label.fitted:hover label.sk-toggleable__label.fitted {\n",
              "  color: var(--sklearn-color-text);\n",
              "  background-color: var(--sklearn-color-fitted-level-2);\n",
              "}\n",
              "\n",
              "/* Estimator label */\n",
              "\n",
              "#sk-container-id-2 div.sk-label label {\n",
              "  font-family: monospace;\n",
              "  font-weight: bold;\n",
              "  display: inline-block;\n",
              "  line-height: 1.2em;\n",
              "}\n",
              "\n",
              "#sk-container-id-2 div.sk-label-container {\n",
              "  text-align: center;\n",
              "}\n",
              "\n",
              "/* Estimator-specific */\n",
              "#sk-container-id-2 div.sk-estimator {\n",
              "  font-family: monospace;\n",
              "  border: 1px dotted var(--sklearn-color-border-box);\n",
              "  border-radius: 0.25em;\n",
              "  box-sizing: border-box;\n",
              "  margin-bottom: 0.5em;\n",
              "  /* unfitted */\n",
              "  background-color: var(--sklearn-color-unfitted-level-0);\n",
              "}\n",
              "\n",
              "#sk-container-id-2 div.sk-estimator.fitted {\n",
              "  /* fitted */\n",
              "  background-color: var(--sklearn-color-fitted-level-0);\n",
              "}\n",
              "\n",
              "/* on hover */\n",
              "#sk-container-id-2 div.sk-estimator:hover {\n",
              "  /* unfitted */\n",
              "  background-color: var(--sklearn-color-unfitted-level-2);\n",
              "}\n",
              "\n",
              "#sk-container-id-2 div.sk-estimator.fitted:hover {\n",
              "  /* fitted */\n",
              "  background-color: var(--sklearn-color-fitted-level-2);\n",
              "}\n",
              "\n",
              "/* Specification for estimator info (e.g. \"i\" and \"?\") */\n",
              "\n",
              "/* Common style for \"i\" and \"?\" */\n",
              "\n",
              ".sk-estimator-doc-link,\n",
              "a:link.sk-estimator-doc-link,\n",
              "a:visited.sk-estimator-doc-link {\n",
              "  float: right;\n",
              "  font-size: smaller;\n",
              "  line-height: 1em;\n",
              "  font-family: monospace;\n",
              "  background-color: var(--sklearn-color-background);\n",
              "  border-radius: 1em;\n",
              "  height: 1em;\n",
              "  width: 1em;\n",
              "  text-decoration: none !important;\n",
              "  margin-left: 0.5em;\n",
              "  text-align: center;\n",
              "  /* unfitted */\n",
              "  border: var(--sklearn-color-unfitted-level-1) 1pt solid;\n",
              "  color: var(--sklearn-color-unfitted-level-1);\n",
              "}\n",
              "\n",
              ".sk-estimator-doc-link.fitted,\n",
              "a:link.sk-estimator-doc-link.fitted,\n",
              "a:visited.sk-estimator-doc-link.fitted {\n",
              "  /* fitted */\n",
              "  border: var(--sklearn-color-fitted-level-1) 1pt solid;\n",
              "  color: var(--sklearn-color-fitted-level-1);\n",
              "}\n",
              "\n",
              "/* On hover */\n",
              "div.sk-estimator:hover .sk-estimator-doc-link:hover,\n",
              ".sk-estimator-doc-link:hover,\n",
              "div.sk-label-container:hover .sk-estimator-doc-link:hover,\n",
              ".sk-estimator-doc-link:hover {\n",
              "  /* unfitted */\n",
              "  background-color: var(--sklearn-color-unfitted-level-3);\n",
              "  color: var(--sklearn-color-background);\n",
              "  text-decoration: none;\n",
              "}\n",
              "\n",
              "div.sk-estimator.fitted:hover .sk-estimator-doc-link.fitted:hover,\n",
              ".sk-estimator-doc-link.fitted:hover,\n",
              "div.sk-label-container:hover .sk-estimator-doc-link.fitted:hover,\n",
              ".sk-estimator-doc-link.fitted:hover {\n",
              "  /* fitted */\n",
              "  background-color: var(--sklearn-color-fitted-level-3);\n",
              "  color: var(--sklearn-color-background);\n",
              "  text-decoration: none;\n",
              "}\n",
              "\n",
              "/* Span, style for the box shown on hovering the info icon */\n",
              ".sk-estimator-doc-link span {\n",
              "  display: none;\n",
              "  z-index: 9999;\n",
              "  position: relative;\n",
              "  font-weight: normal;\n",
              "  right: .2ex;\n",
              "  padding: .5ex;\n",
              "  margin: .5ex;\n",
              "  width: min-content;\n",
              "  min-width: 20ex;\n",
              "  max-width: 50ex;\n",
              "  color: var(--sklearn-color-text);\n",
              "  box-shadow: 2pt 2pt 4pt #999;\n",
              "  /* unfitted */\n",
              "  background: var(--sklearn-color-unfitted-level-0);\n",
              "  border: .5pt solid var(--sklearn-color-unfitted-level-3);\n",
              "}\n",
              "\n",
              ".sk-estimator-doc-link.fitted span {\n",
              "  /* fitted */\n",
              "  background: var(--sklearn-color-fitted-level-0);\n",
              "  border: var(--sklearn-color-fitted-level-3);\n",
              "}\n",
              "\n",
              ".sk-estimator-doc-link:hover span {\n",
              "  display: block;\n",
              "}\n",
              "\n",
              "/* \"?\"-specific style due to the `<a>` HTML tag */\n",
              "\n",
              "#sk-container-id-2 a.estimator_doc_link {\n",
              "  float: right;\n",
              "  font-size: 1rem;\n",
              "  line-height: 1em;\n",
              "  font-family: monospace;\n",
              "  background-color: var(--sklearn-color-background);\n",
              "  border-radius: 1rem;\n",
              "  height: 1rem;\n",
              "  width: 1rem;\n",
              "  text-decoration: none;\n",
              "  /* unfitted */\n",
              "  color: var(--sklearn-color-unfitted-level-1);\n",
              "  border: var(--sklearn-color-unfitted-level-1) 1pt solid;\n",
              "}\n",
              "\n",
              "#sk-container-id-2 a.estimator_doc_link.fitted {\n",
              "  /* fitted */\n",
              "  border: var(--sklearn-color-fitted-level-1) 1pt solid;\n",
              "  color: var(--sklearn-color-fitted-level-1);\n",
              "}\n",
              "\n",
              "/* On hover */\n",
              "#sk-container-id-2 a.estimator_doc_link:hover {\n",
              "  /* unfitted */\n",
              "  background-color: var(--sklearn-color-unfitted-level-3);\n",
              "  color: var(--sklearn-color-background);\n",
              "  text-decoration: none;\n",
              "}\n",
              "\n",
              "#sk-container-id-2 a.estimator_doc_link.fitted:hover {\n",
              "  /* fitted */\n",
              "  background-color: var(--sklearn-color-fitted-level-3);\n",
              "}\n",
              "</style><div id=\"sk-container-id-2\" class=\"sk-top-container\"><div class=\"sk-text-repr-fallback\"><pre>SVC(C=10, gamma=&#x27;auto&#x27;)</pre><b>In a Jupyter environment, please rerun this cell to show the HTML representation or trust the notebook. <br />On GitHub, the HTML representation is unable to render, please try loading this page with nbviewer.org.</b></div><div class=\"sk-container\" hidden><div class=\"sk-item\"><div class=\"sk-estimator fitted sk-toggleable\"><input class=\"sk-toggleable__control sk-hidden--visually\" id=\"sk-estimator-id-2\" type=\"checkbox\" checked><label for=\"sk-estimator-id-2\" class=\"sk-toggleable__label fitted sk-toggleable__label-arrow\"><div><div>SVC</div></div><div><a class=\"sk-estimator-doc-link fitted\" rel=\"noreferrer\" target=\"_blank\" href=\"https://scikit-learn.org/1.6/modules/generated/sklearn.svm.SVC.html\">?<span>Documentation for SVC</span></a><span class=\"sk-estimator-doc-link fitted\">i<span>Fitted</span></span></div></label><div class=\"sk-toggleable__content fitted\"><pre>SVC(C=10, gamma=&#x27;auto&#x27;)</pre></div> </div></div></div></div>"
            ],
            "text/plain": [
              "SVC(C=10, gamma='auto')"
            ]
          },
          "execution_count": 83,
          "metadata": {},
          "output_type": "execute_result"
        }
      ],
      "source": [
        "# Train the best SVC model on the training data\n",
        "svc_best.fit(X_train, y_train)\n"
      ]
    },
    {
      "cell_type": "code",
      "execution_count": 84,
      "metadata": {
        "id": "7CeHZ_op7E0h"
      },
      "outputs": [],
      "source": [
        "# Use the trained SVC model to predict the target values for the test data\n",
        "y_pred = svc_best.predict(X_test)\n"
      ]
    },
    {
      "cell_type": "code",
      "execution_count": 85,
      "metadata": {
        "colab": {
          "base_uri": "https://localhost:8080/"
        },
        "id": "DjJM3F6i7Ogt",
        "outputId": "1f826ffc-a18d-4dd2-d320-c62210e06343"
      },
      "outputs": [
        {
          "name": "stdout",
          "output_type": "stream",
          "text": [
            "Accuracy: 0.9840425531914894\n",
            "Precision: 0.9842141386410432\n",
            "F1 Score: 0.9840874240609306\n",
            "Recall: 0.9840425531914894\n",
            "Confusion Matrix:\n",
            " [[66  1  0]\n",
            " [ 0 60  1]\n",
            " [ 0  1 59]]\n",
            "Classification Report:\n",
            "               precision    recall  f1-score   support\n",
            "\n",
            "           0       1.00      0.99      0.99        67\n",
            "           1       0.97      0.98      0.98        61\n",
            "           2       0.98      0.98      0.98        60\n",
            "\n",
            "    accuracy                           0.98       188\n",
            "   macro avg       0.98      0.98      0.98       188\n",
            "weighted avg       0.98      0.98      0.98       188\n",
            "\n"
          ]
        }
      ],
      "source": [
        " # Evaluate the performance of the model on the test set\n",
        "print(\"Accuracy:\", accuracy_score(y_test, y_pred))\n",
        "print(\"Precision:\", precision_score(y_test, y_pred, average='weighted'))\n",
        "print(\"F1 Score:\", f1_score(y_test, y_pred, average='weighted'))\n",
        "print(\"Recall:\", recall_score(y_test, y_pred, average='weighted'))\n",
        "print(\"Confusion Matrix:\\n\", confusion_matrix(y_test, y_pred))\n",
        "print(\"Classification Report:\\n\", classification_report(y_test, y_pred))\n"
      ]
    },
    {
      "cell_type": "code",
      "execution_count": 86,
      "metadata": {
        "id": "kq9MymBGFAeF"
      },
      "outputs": [],
      "source": [
        "# Compute the confusion matrix to evaluate the accuracy of the classification by comparing true and predicted labels\n",
        "cm = confusion_matrix(y_test, y_pred)"
      ]
    },
    {
      "cell_type": "code",
      "execution_count": 87,
      "metadata": {
        "colab": {
          "base_uri": "https://localhost:8080/",
          "height": 472
        },
        "id": "aZxxPg017r2s",
        "outputId": "ec311db1-6a6b-42d2-89ce-a477401b3736"
      },
      "outputs": [
        {
          "data": {
            "image/png": "[encoded data removed]",
            "text/plain": [
              "<Figure size 640x480 with 2 Axes>"
            ]
          },
          "metadata": {},
          "output_type": "display_data"
        }
      ],
      "source": [
        "# Visualize the confusion matrix as a heatmap with annotations\n",
        "sns.heatmap(cm, annot=True, fmt='d', cmap='Blues')\n",
        "plt.xlabel('Predicted')\n",
        "plt.ylabel('Actual')\n",
        "plt.title('Confusion Matrix')\n",
        "plt.show()"
      ]
    },
    {
      "cell_type": "code",
      "execution_count": 88,
      "metadata": {
        "id": "s1rejZMiFC24"
      },
      "outputs": [],
      "source": [
        "\n",
        "\n",
        "import joblib"
      ]
    },
    {
      "cell_type": "code",
      "execution_count": 89,
      "metadata": {
        "colab": {
          "base_uri": "https://localhost:8080/"
        },
        "id": "aPrzluJEFa4W",
        "outputId": "3defb37e-e94c-40e3-f0a9-e0c63307b889"
      },
      "outputs": [
        {
          "data": {
            "text/plain": [
              "['maternal_model.pkl']"
            ]
          },
          "execution_count": 89,
          "metadata": {},
          "output_type": "execute_result"
        }
      ],
      "source": [
        "# Saving the trained model\n",
        "joblib.dump(svc_best, 'maternal_model.pkl')"
      ]
    },
    {
      "cell_type": "code",
      "execution_count": 90,
      "metadata": {
        "id": "-y0FuzfNF-vT"
      },
      "outputs": [],
      "source": [
        "# Load the saved model from disk\n",
        "ml = joblib.load('maternal_model.pkl')"
      ]
    },
    {
      "cell_type": "code",
      "execution_count": 91,
      "metadata": {
        "colab": {
          "base_uri": "https://localhost:8080/"
        },
        "id": "Erynn4OKiMb1",
        "outputId": "928187f8-759f-460a-b0be-2a0536c0a1d4"
      },
      "outputs": [
        {
          "data": {
            "text/plain": [
              "['.git',\n",
              " '.gitignore',\n",
              " 'mamacare.py',\n",
              " 'mamacare_symptom_risk_dataset.csv',\n",
              " 'Maternal (1).ipynb',\n",
              " 'maternal_model.pkl',\n",
              " 'mental.health_model',\n",
              " 'README.md',\n",
              " 'requirements.txt']"
            ]
          },
          "execution_count": 91,
          "metadata": {},
          "output_type": "execute_result"
        }
      ],
      "source": [
        "import os\n",
        "os.listdir()\n"
      ]
    },
    {
      "cell_type": "code",
      "execution_count": null,
      "metadata": {
        "id": "jUwIATtLiNdj"
      },
      "outputs": [],
      "source": []
    }
  ],
  "metadata": {
    "colab": {
      "provenance": []
    },
    "kernelspec": {
      "display_name": "carenv",
      "language": "python",
      "name": "python3"
    },
    "language_info": {
      "codemirror_mode": {
        "name": "ipython",
        "version": 3
      },
      "file_extension": ".py",
      "mimetype": "text/x-python",
      "name": "python",
      "nbconvert_exporter": "python",
      "pygments_lexer": "ipython3",
      "version": "3.9.22"
    }
  },
  "nbformat": 4,
  "nbformat_minor": 0
}
